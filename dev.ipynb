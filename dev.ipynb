{
 "cells": [
  {
   "cell_type": "code",
   "execution_count": 1,
   "metadata": {},
   "outputs": [],
   "source": [
    "%load_ext autoreload\n",
    "%autoreload 2"
   ]
  },
  {
   "cell_type": "code",
   "execution_count": 2,
   "metadata": {},
   "outputs": [],
   "source": [
    "import os\n",
    "\n",
    "os.environ[\"HF_HOME\"] = \"models/\"\n",
    "os.environ[\"TORCH_HOME\"] = \"models/\"\n",
    "os.environ[\"TRANSFORMERS_OFFLINE\"] = \"1\""
   ]
  },
  {
   "cell_type": "code",
   "execution_count": 3,
   "metadata": {},
   "outputs": [],
   "source": [
    "from til_23_asr import VoiceExtractor\n",
    "from til_23_asr.voice import normalize_volume\n",
    "from IPython.display import Audio\n",
    "import librosa\n",
    "import torch\n",
    "from pathlib import Path\n",
    "import pydub"
   ]
  },
  {
   "cell_type": "code",
   "execution_count": 4,
   "metadata": {},
   "outputs": [],
   "source": [
    "# load original and noisy speech files\n",
    "# files = Path('../data/audio/val').glob('*.wav')\n",
    "files = Path('/mnt/e/Downloads/simulator/orgteam1_vs_orgteam2/valid_checkpoint_8/Digits').glob('*.wav')\n",
    "wavs = {}\n",
    "for file in sorted(files):\n",
    "    noisy, sr = librosa.load(file, sr=None)\n",
    "    wavs[file.stem] = (noisy, sr)"
   ]
  },
  {
   "cell_type": "code",
   "execution_count": 5,
   "metadata": {},
   "outputs": [],
   "source": [
    "extractor = VoiceExtractor(\n",
    "    sr=sr,\n",
    "    # spectral_gate_std_thres=1.0,\n",
    "    # spectral_noise_remove=1.0,\n",
    "    # spectral_n_fft=512,\n",
    "    # spectral_freq_mask_hz=None,\n",
    "    # spectral_time_mask_ms=None,\n",
    ").to(\"cuda\")"
   ]
  },
  {
   "cell_type": "code",
   "execution_count": 6,
   "metadata": {},
   "outputs": [],
   "source": [
    "audio = Audio(normalize_volume(torch.tensor(wavs[\"digits3\"][0])).numpy(), rate=wavs[\"digits3\"][1])\n",
    "with open('test.wav', 'wb') as f:\n",
    "    f.write(audio.data)"
   ]
  },
  {
   "cell_type": "code",
   "execution_count": null,
   "metadata": {},
   "outputs": [],
   "source": [
    "for name, (noisy, sr) in wavs.items():\n",
    "    print(name)\n",
    "    display(Audio(noisy, rate=sr))\n",
    "    clean, new_sr, noise = extractor(\n",
    "        torch.tensor(noisy, device=\"cuda\"),\n",
    "        sr,\n",
    "        # skip_vol_norm=False,\n",
    "        skip_demucs=True,\n",
    "        # skip_spectral=False,\n",
    "        # use_ori=False,\n",
    "        return_noise=True,\n",
    "    )\n",
    "    clean = clean.numpy(force=True)\n",
    "    display(Audio(clean, rate=new_sr))\n",
    "    display(Audio(noise.numpy(force=True), rate=new_sr))\n",
    "    "
   ]
  },
  {
   "cell_type": "code",
   "execution_count": null,
   "metadata": {},
   "outputs": [],
   "source": [
    "demucked, d_sr = extractor._demucs(torch.tensor(noisy), sr)\n",
    "display(Audio(demucked, rate=d_sr))"
   ]
  },
  {
   "cell_type": "code",
   "execution_count": null,
   "metadata": {},
   "outputs": [],
   "source": [
    "display(Audio(extractor._spectral(demucked, d_sr)[0], rate=sr))"
   ]
  }
 ],
 "metadata": {
  "kernelspec": {
   "display_name": "finals",
   "language": "python",
   "name": "python3"
  },
  "language_info": {
   "codemirror_mode": {
    "name": "ipython",
    "version": 3
   },
   "file_extension": ".py",
   "mimetype": "text/x-python",
   "name": "python",
   "nbconvert_exporter": "python",
   "pygments_lexer": "ipython3",
   "version": "3.8.16"
  },
  "orig_nbformat": 4
 },
 "nbformat": 4,
 "nbformat_minor": 2
}
